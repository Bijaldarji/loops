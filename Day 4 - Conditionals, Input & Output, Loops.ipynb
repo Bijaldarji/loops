{
 "cells": [
  {
   "cell_type": "markdown",
   "id": "4bee44d4",
   "metadata": {},
   "source": [
    "# Conditionals"
   ]
  },
  {
   "cell_type": "code",
   "execution_count": 2,
   "id": "eb16db0e",
   "metadata": {
    "scrolled": true
   },
   "outputs": [
    {
     "name": "stdout",
     "output_type": "stream",
     "text": [
      "A is Greater than 50\n",
      "Operation Completed\n"
     ]
    }
   ],
   "source": [
    "a = 60\n",
    "\n",
    "if a > 50:\n",
    "    print(\"A is Greater than 50\")\n",
    "elif a < 50: #else if\n",
    "    print(\"A is Lesser than 50\")\n",
    "else: #else will work when all my previous conditions fail\n",
    "    print(\"A is 50\")\n",
    "    \n",
    "print(\"Operation Completed\")"
   ]
  },
  {
   "cell_type": "code",
   "execution_count": 3,
   "id": "6cd417be",
   "metadata": {},
   "outputs": [
    {
     "data": {
      "text/plain": [
       "True"
      ]
     },
     "execution_count": 3,
     "metadata": {},
     "output_type": "execute_result"
    }
   ],
   "source": [
    "a > 50"
   ]
  },
  {
   "cell_type": "code",
   "execution_count": 6,
   "id": "9bc7faf0",
   "metadata": {},
   "outputs": [
    {
     "name": "stdout",
     "output_type": "stream",
     "text": [
      "Old Guy\n"
     ]
    }
   ],
   "source": [
    "age = 26\n",
    "\n",
    "if age > 25:\n",
    "    print(\"Old Guy\")\n",
    "else:\n",
    "    print(\"Young Guy\")"
   ]
  },
  {
   "cell_type": "markdown",
   "id": "cd3e3089",
   "metadata": {},
   "source": [
    "### Input"
   ]
  },
  {
   "cell_type": "code",
   "execution_count": 7,
   "id": "fcb258cb",
   "metadata": {},
   "outputs": [
    {
     "name": "stdout",
     "output_type": "stream",
     "text": [
      "Please enter your name: Bijal\n"
     ]
    }
   ],
   "source": [
    "name = input(\"Please enter your name: \")"
   ]
  },
  {
   "cell_type": "code",
   "execution_count": 8,
   "id": "f748d902",
   "metadata": {},
   "outputs": [
    {
     "name": "stdout",
     "output_type": "stream",
     "text": [
      "Name of the Trainer is Bijal\n"
     ]
    }
   ],
   "source": [
    "print(\"Name of the Trainer is\", name)"
   ]
  },
  {
   "cell_type": "code",
   "execution_count": 9,
   "id": "0127a14b",
   "metadata": {},
   "outputs": [
    {
     "data": {
      "text/plain": [
       "str"
      ]
     },
     "execution_count": 9,
     "metadata": {},
     "output_type": "execute_result"
    }
   ],
   "source": [
    "type(name)"
   ]
  },
  {
   "cell_type": "code",
   "execution_count": 10,
   "id": "25d0b9d0",
   "metadata": {},
   "outputs": [
    {
     "name": "stdout",
     "output_type": "stream",
     "text": [
      "Supply your age: 22\n",
      "Age of the trainer is 22\n"
     ]
    }
   ],
   "source": [
    "age = input(\"Supply your age: \") #Inputs are always collected in the form of the String\n",
    "print(\"Age of the trainer is\", age)"
   ]
  },
  {
   "cell_type": "code",
   "execution_count": 11,
   "id": "222a2a3c",
   "metadata": {
    "scrolled": true
   },
   "outputs": [
    {
     "data": {
      "text/plain": [
       "str"
      ]
     },
     "execution_count": 11,
     "metadata": {},
     "output_type": "execute_result"
    }
   ],
   "source": [
    "type(age)"
   ]
  },
  {
   "cell_type": "code",
   "execution_count": 17,
   "id": "074a4b6c",
   "metadata": {},
   "outputs": [
    {
     "name": "stdout",
     "output_type": "stream",
     "text": [
      "Please enter your age: 31\n",
      "Trainer's age is 31\n"
     ]
    }
   ],
   "source": [
    "age = int(input(\"Please enter your age: \")) # type casting\n",
    "print(\"Trainer's age is\", age)"
   ]
  },
  {
   "cell_type": "code",
   "execution_count": 19,
   "id": "2148e61f",
   "metadata": {},
   "outputs": [
    {
     "data": {
      "text/plain": [
       "'31'"
      ]
     },
     "execution_count": 19,
     "metadata": {},
     "output_type": "execute_result"
    }
   ],
   "source": [
    "str(age)"
   ]
  },
  {
   "cell_type": "code",
   "execution_count": 20,
   "id": "512a2288",
   "metadata": {},
   "outputs": [
    {
     "data": {
      "text/plain": [
       "31.0"
      ]
     },
     "execution_count": 20,
     "metadata": {},
     "output_type": "execute_result"
    }
   ],
   "source": [
    "float(age)"
   ]
  },
  {
   "cell_type": "code",
   "execution_count": 18,
   "id": "b3e8ff8c",
   "metadata": {},
   "outputs": [
    {
     "data": {
      "text/plain": [
       "int"
      ]
     },
     "execution_count": 18,
     "metadata": {},
     "output_type": "execute_result"
    }
   ],
   "source": [
    "type(age)"
   ]
  },
  {
   "cell_type": "markdown",
   "id": "f72b6f33",
   "metadata": {},
   "source": [
    "# Multiple Conditions"
   ]
  },
  {
   "cell_type": "code",
   "execution_count": 14,
   "id": "90e20d29",
   "metadata": {},
   "outputs": [
    {
     "name": "stdout",
     "output_type": "stream",
     "text": [
      "Please enter your Age: 50\n",
      "Please enter your Salary: 50000\n",
      "Please enter your Credit score: 800\n",
      "Provide Loans with Higher interest rates\n"
     ]
    }
   ],
   "source": [
    "age = int(input(\"Please enter your Age: \"))\n",
    "sal = float(input(\"Please enter your Salary: \"))\n",
    "credit_score = int(input(\"Please enter your Credit score: \"))\n",
    "\n",
    "# 1. Age must be lesser than 45, Salary must be 50+ LPA, Credit score should be > 800 == \"Loan with lesser interest\"\n",
    "# 2. Age must be lesser than 45, Salary must be <50 LPA, Credit score should bw 700 to 800 == \"Loan with moderate interest\"\n",
    "# 3. Everybody else with a credit score of 600 == \"Loan with Higher interest rate\"\n",
    "# 4. Everybody else  == No Loans\n",
    "\n",
    "if (age <= 45) and (sal >= 50) and (credit_score >= 800):\n",
    "    print(\"Provide Loans with lesser interest rates\")\n",
    "elif (age <= 45) and (sal < 50) and (credit_score >= 700 and credit_score < 800):\n",
    "    print(\"Provide Loans with Moderate interest rates\")\n",
    "elif credit_score >= 600:\n",
    "    print(\"Provide Loans with Higher interest rates\")\n",
    "else:\n",
    "    print(\"No Loans\")"
   ]
  },
  {
   "cell_type": "code",
   "execution_count": 29,
   "id": "77d0f7e4",
   "metadata": {},
   "outputs": [],
   "source": [
    "# 45 <= \"45\""
   ]
  },
  {
   "cell_type": "code",
   "execution_count": 33,
   "id": "811019ab",
   "metadata": {},
   "outputs": [
    {
     "name": "stdout",
     "output_type": "stream",
     "text": [
      "Please enter your Age: 31\n",
      "Please enter your Salary: 15\n",
      "Bad Loans\n"
     ]
    }
   ],
   "source": [
    "age = int(input(\"Please enter your Age: \"))\n",
    "sal = float(input(\"Please enter your Salary: \"))\n",
    "\n",
    "if age > 45 or sal > 50:\n",
    "    print(\"Better Loan\")\n",
    "else:\n",
    "    print(\"Bad Loans\")"
   ]
  },
  {
   "cell_type": "markdown",
   "id": "381d05c5",
   "metadata": {},
   "source": [
    "# Output"
   ]
  },
  {
   "cell_type": "code",
   "execution_count": 34,
   "id": "a95449e5",
   "metadata": {},
   "outputs": [
    {
     "name": "stdout",
     "output_type": "stream",
     "text": [
      "Welcome to Python Programming\n"
     ]
    }
   ],
   "source": [
    "print(\"Welcome to Python Programming\")"
   ]
  },
  {
   "cell_type": "code",
   "execution_count": 35,
   "id": "b7d4b316",
   "metadata": {},
   "outputs": [
    {
     "name": "stdout",
     "output_type": "stream",
     "text": [
      "50\n"
     ]
    }
   ],
   "source": [
    "print(a)"
   ]
  },
  {
   "cell_type": "code",
   "execution_count": 36,
   "id": "fe5cfdc1",
   "metadata": {},
   "outputs": [
    {
     "name": "stdout",
     "output_type": "stream",
     "text": [
      "240\n"
     ]
    }
   ],
   "source": [
    "print(10 + 230)"
   ]
  },
  {
   "cell_type": "code",
   "execution_count": 37,
   "id": "25ee8b96",
   "metadata": {},
   "outputs": [
    {
     "name": "stdout",
     "output_type": "stream",
     "text": [
      "Python Programming\n"
     ]
    }
   ],
   "source": [
    "print(\"Python\",\"Programming\")"
   ]
  },
  {
   "cell_type": "code",
   "execution_count": 38,
   "id": "a49e63bc",
   "metadata": {},
   "outputs": [
    {
     "name": "stdout",
     "output_type": "stream",
     "text": [
      "Python--Programming\n"
     ]
    }
   ],
   "source": [
    "print(\"Python\",\"Programming\", sep = \"--\")"
   ]
  },
  {
   "cell_type": "code",
   "execution_count": 39,
   "id": "6c2e9cb4",
   "metadata": {},
   "outputs": [
    {
     "name": "stdout",
     "output_type": "stream",
     "text": [
      "Python\n",
      "Programming\n"
     ]
    }
   ],
   "source": [
    "print(\"Python\")\n",
    "print(\"Programming\")"
   ]
  },
  {
   "cell_type": "code",
   "execution_count": 42,
   "id": "c8ac60f7",
   "metadata": {},
   "outputs": [
    {
     "name": "stdout",
     "output_type": "stream",
     "text": [
      "Python\n",
      "Programming\n"
     ]
    }
   ],
   "source": [
    "print(\"Python\", end = \"\\n\")\n",
    "print(\"Programming\")"
   ]
  },
  {
   "cell_type": "code",
   "execution_count": 43,
   "id": "9a7a4b97",
   "metadata": {},
   "outputs": [
    {
     "name": "stdout",
     "output_type": "stream",
     "text": [
      "Python Programming\n"
     ]
    }
   ],
   "source": [
    "print(\"Python\", end = \" \")\n",
    "print(\"Programming\")"
   ]
  },
  {
   "cell_type": "code",
   "execution_count": 44,
   "id": "e4168e2f",
   "metadata": {},
   "outputs": [
    {
     "name": "stdout",
     "output_type": "stream",
     "text": [
      "print(value, ..., sep=' ', end='\\n', file=sys.stdout, flush=False)\n",
      "\n",
      "Prints the values to a stream, or to sys.stdout by default.\n",
      "Optional keyword arguments:\n",
      "file:  a file-like object (stream); defaults to the current sys.stdout.\n",
      "sep:   string inserted between values, default a space.\n",
      "end:   string appended after the last value, default a newline.\n",
      "flush: whether to forcibly flush the stream.\n"
     ]
    }
   ],
   "source": [
    "# To read documentation of any function or Press Shift + Tab for reading it once\n",
    "print(print.__doc__)"
   ]
  },
  {
   "cell_type": "code",
   "execution_count": 47,
   "id": "4cd6a4dc",
   "metadata": {},
   "outputs": [
    {
     "name": "stdout",
     "output_type": "stream",
     "text": [
      "Forward raw_input to frontends\n",
      "\n",
      "        Raises\n",
      "        ------\n",
      "        StdinNotImplementedError if active frontend doesn't support stdin.\n",
      "        \n"
     ]
    }
   ],
   "source": [
    "print(input.__doc__)"
   ]
  },
  {
   "cell_type": "markdown",
   "id": "3abb645f",
   "metadata": {},
   "source": [
    "# Format"
   ]
  },
  {
   "cell_type": "code",
   "execution_count": 2,
   "id": "a1f14c00",
   "metadata": {},
   "outputs": [
    {
     "name": "stdout",
     "output_type": "stream",
     "text": [
      "Please enter your name:Jackie\n",
      "Please enter your university name:Mumbai University\n",
      "Please mention your age: 22\n"
     ]
    }
   ],
   "source": [
    "name = input(\"Please enter your name:\")\n",
    "university = input(\"Please enter your university name:\")\n",
    "age = int(input(\"Please mention your age: \"))"
   ]
  },
  {
   "cell_type": "code",
   "execution_count": 3,
   "id": "1f304672",
   "metadata": {},
   "outputs": [
    {
     "name": "stdout",
     "output_type": "stream",
     "text": [
      "Jackie is studying at the Mumbai University at the age of 22\n"
     ]
    }
   ],
   "source": [
    "print(name, 'is studying at the', university, \"at the age of\", age)"
   ]
  },
  {
   "cell_type": "code",
   "execution_count": 4,
   "id": "c24c3d3b",
   "metadata": {},
   "outputs": [
    {
     "name": "stdout",
     "output_type": "stream",
     "text": [
      "Jackie is studying at the Mumbai University at the age of 22\n"
     ]
    }
   ],
   "source": [
    "print(\"{} is studying at the {} at the age of {}\".format(name, university, age))"
   ]
  },
  {
   "cell_type": "code",
   "execution_count": 7,
   "id": "274243e1",
   "metadata": {},
   "outputs": [
    {
     "name": "stdout",
     "output_type": "stream",
     "text": [
      "Jackie is studying at the Mumbai University at the age of 22\n"
     ]
    }
   ],
   "source": [
    "print(f\"{name} is studying at the {university} at the age of {age}\")"
   ]
  },
  {
   "cell_type": "markdown",
   "id": "11a24869",
   "metadata": {},
   "source": [
    "# Loops"
   ]
  },
  {
   "cell_type": "code",
   "execution_count": 8,
   "id": "b47b9c72",
   "metadata": {},
   "outputs": [
    {
     "name": "stdout",
     "output_type": "stream",
     "text": [
      "Please enter your Age: 31\n",
      "Please enter your Salary: 55\n",
      "Please enter your Credit score: 802\n",
      "Provide Loans with lesser interest rates\n"
     ]
    }
   ],
   "source": [
    "age = int(input(\"Please enter your Age: \"))\n",
    "sal = float(input(\"Please enter your Salary: \"))\n",
    "credit_score = int(input(\"Please enter your Credit score: \"))\n",
    "\n",
    "if (age <= 45) and (sal >= 50) and (credit_score >= 800):\n",
    "    print(\"Provide Loans with lesser interest rates\")\n",
    "elif (age <= 45) and (sal < 50) and (credit_score >= 700 and credit_score < 800):\n",
    "    print(\"Provide Loans with Moderate interest rates\")\n",
    "elif credit_score >= 600:\n",
    "    print(\"Provide Loans with Higher interest rates\")\n",
    "else:\n",
    "    print(\"No Loans\")"
   ]
  },
  {
   "cell_type": "code",
   "execution_count": 9,
   "id": "49420f25",
   "metadata": {},
   "outputs": [],
   "source": [
    "# Iterating an operation \"n\" number of times\n",
    "# 1. For - Finite iterations - Limited number of iterations\n",
    "# 2. While - Infinite Iterations - Runs continously unless a condition becomes FALSE"
   ]
  },
  {
   "cell_type": "markdown",
   "id": "a687f858",
   "metadata": {},
   "source": [
    "# FOR Loop"
   ]
  },
  {
   "cell_type": "code",
   "execution_count": null,
   "id": "53afc2b3",
   "metadata": {},
   "outputs": [],
   "source": [
    "for i in something: # will inform the machine to run the below operation n number of times"
   ]
  },
  {
   "cell_type": "code",
   "execution_count": 10,
   "id": "b2c17f1b",
   "metadata": {},
   "outputs": [
    {
     "data": {
      "text/plain": [
       "[0, 1, 2]"
      ]
     },
     "execution_count": 10,
     "metadata": {},
     "output_type": "execute_result"
    }
   ],
   "source": [
    "list(range(3))"
   ]
  },
  {
   "cell_type": "code",
   "execution_count": 11,
   "id": "2c10c6c8",
   "metadata": {},
   "outputs": [
    {
     "name": "stdout",
     "output_type": "stream",
     "text": [
      "Python\n",
      "Python\n",
      "Python\n"
     ]
    }
   ],
   "source": [
    "for i in range(3):\n",
    "    print(\"Python\")"
   ]
  },
  {
   "cell_type": "code",
   "execution_count": 12,
   "id": "16bfdf56",
   "metadata": {},
   "outputs": [
    {
     "name": "stdout",
     "output_type": "stream",
     "text": [
      "0\n",
      "1\n",
      "2\n"
     ]
    }
   ],
   "source": [
    "for i in range(3):\n",
    "    print(i)"
   ]
  },
  {
   "cell_type": "code",
   "execution_count": 13,
   "id": "cb2967ee",
   "metadata": {},
   "outputs": [
    {
     "name": "stdout",
     "output_type": "stream",
     "text": [
      "Please enter your Age: 21\n",
      "Please enter your Salary: 55\n",
      "Please enter your Credit score: 802\n",
      "Provide Loans with lesser interest rates\n",
      "Please enter your Age: 45\n",
      "Please enter your Salary: 48\n",
      "Please enter your Credit score: 750\n",
      "Provide Loans with Moderate interest rates\n",
      "Please enter your Age: 61\n",
      "Please enter your Salary: 21\n",
      "Please enter your Credit score: 612\n",
      "Provide Loans with Higher interest rates\n",
      "Please enter your Age: 19\n",
      "Please enter your Salary: 3\n",
      "Please enter your Credit score: 600\n",
      "Provide Loans with Higher interest rates\n",
      "Please enter your Age: 17\n",
      "Please enter your Salary: 1\n",
      "Please enter your Credit score: 500\n",
      "No Loans\n"
     ]
    }
   ],
   "source": [
    "for i in range(5):\n",
    "    \n",
    "    age = int(input(\"Please enter your Age: \"))\n",
    "    sal = float(input(\"Please enter your Salary: \"))\n",
    "    credit_score = int(input(\"Please enter your Credit score: \"))\n",
    "\n",
    "    if (age <= 45) and (sal >= 50) and (credit_score >= 800):\n",
    "        print(\"Provide Loans with lesser interest rates\")\n",
    "    elif (age <= 45) and (sal < 50) and (credit_score >= 700 and credit_score < 800):\n",
    "        print(\"Provide Loans with Moderate interest rates\")\n",
    "    elif credit_score >= 600:\n",
    "        print(\"Provide Loans with Higher interest rates\")\n",
    "    else:\n",
    "        print(\"No Loans\")"
   ]
  },
  {
   "cell_type": "code",
   "execution_count": 33,
   "id": "583cc5b4",
   "metadata": {},
   "outputs": [],
   "source": [
    "import random\n",
    "secret_number = random.randint(10, 100)"
   ]
  },
  {
   "cell_type": "code",
   "execution_count": 34,
   "id": "40fa5a04",
   "metadata": {},
   "outputs": [
    {
     "name": "stdout",
     "output_type": "stream",
     "text": [
      "\n",
      "Guess a number between 10 to 100: 91\n",
      "Guess lesser\n",
      "\n",
      "Guess a number between 10 to 100: 75\n",
      "Guess higher\n",
      "\n",
      "Guess a number between 10 to 100: 88\n",
      "Guess lesser\n"
     ]
    }
   ],
   "source": [
    "for i in range(3):\n",
    "    \n",
    "    guess = int(input(\"\\nGuess a number between 10 to 100: \"))\n",
    "    \n",
    "    if guess > secret_number:\n",
    "        print(\"Guess lesser\")\n",
    "    elif guess < secret_number:\n",
    "        print(\"Guess higher\")\n",
    "    else:\n",
    "        print(\"Good job, you've guessed it correctly\")"
   ]
  },
  {
   "cell_type": "code",
   "execution_count": 23,
   "id": "2cb62c6f",
   "metadata": {},
   "outputs": [
    {
     "name": "stdout",
     "output_type": "stream",
     "text": [
      "\n",
      "Guess a number between 10 to 100: 90\n",
      "Guess higher\n",
      "\n",
      "Guess a number between 10 to 100: 91\n",
      "Good job, you've guessed it correctly\n",
      "\n",
      "Guess a number between 10 to 100: 85\n",
      "Guess higher\n",
      "Good Try, the secret_Number is 91\n"
     ]
    }
   ],
   "source": [
    "for i in range(3):\n",
    "    \n",
    "    guess = int(input(\"\\nGuess a number between 10 to 100: \"))\n",
    "    \n",
    "    if guess > secret_number:\n",
    "        print(\"Guess lesser\")\n",
    "    elif guess < secret_number:\n",
    "        print(\"Guess higher\")\n",
    "    else:\n",
    "        print(\"Good job, you've guessed it correctly\")\n",
    "\n",
    "else:\n",
    "    print(\"Good Try, the secret_Number is\", secret_number)"
   ]
  },
  {
   "cell_type": "code",
   "execution_count": 25,
   "id": "e5ca208c",
   "metadata": {},
   "outputs": [
    {
     "data": {
      "text/plain": [
       "[1, 2, 3]"
      ]
     },
     "execution_count": 25,
     "metadata": {},
     "output_type": "execute_result"
    }
   ],
   "source": [
    "list(range(1, 4))"
   ]
  },
  {
   "cell_type": "code",
   "execution_count": 29,
   "id": "0d7a0a32",
   "metadata": {},
   "outputs": [
    {
     "name": "stdout",
     "output_type": "stream",
     "text": [
      "\n",
      "Guess a number between 10 to 100: 84\n",
      "Guess higher\n",
      "\n",
      "Guess a number between 10 to 100: 95\n",
      "Guess lesser\n",
      "\n",
      "Guess a number between 10 to 100: 91\n",
      "Good job, you've guessed it correctly\n"
     ]
    }
   ],
   "source": [
    "for i in range(1, 4):\n",
    "    \n",
    "    guess = int(input(\"\\nGuess a number between 10 to 100: \"))\n",
    "    \n",
    "    if guess > secret_number:\n",
    "        print(\"Guess lesser\")\n",
    "    elif guess < secret_number:\n",
    "        print(\"Guess higher\")\n",
    "    else:\n",
    "        print(\"Good job, you've guessed it correctly\")\n",
    "        break\n",
    "else:\n",
    "    print(\"Good Try, the secret_Number is\", secret_number)"
   ]
  },
  {
   "cell_type": "code",
   "execution_count": null,
   "id": "ca7c6c4a",
   "metadata": {},
   "outputs": [],
   "source": []
  },
  {
   "cell_type": "code",
   "execution_count": null,
   "id": "ddec899a",
   "metadata": {},
   "outputs": [],
   "source": []
  },
  {
   "cell_type": "code",
   "execution_count": null,
   "id": "b0e3cd85",
   "metadata": {},
   "outputs": [],
   "source": []
  },
  {
   "cell_type": "code",
   "execution_count": null,
   "id": "55c77bb9",
   "metadata": {},
   "outputs": [],
   "source": []
  },
  {
   "cell_type": "code",
   "execution_count": null,
   "id": "960d6b94",
   "metadata": {},
   "outputs": [],
   "source": []
  },
  {
   "cell_type": "code",
   "execution_count": null,
   "id": "5f7fbc46",
   "metadata": {},
   "outputs": [],
   "source": []
  },
  {
   "cell_type": "code",
   "execution_count": null,
   "id": "ffd35198",
   "metadata": {},
   "outputs": [],
   "source": []
  },
  {
   "cell_type": "code",
   "execution_count": null,
   "id": "fc62afad",
   "metadata": {},
   "outputs": [],
   "source": []
  },
  {
   "cell_type": "code",
   "execution_count": null,
   "id": "d2fc8829",
   "metadata": {},
   "outputs": [],
   "source": []
  },
  {
   "cell_type": "code",
   "execution_count": null,
   "id": "f45ff254",
   "metadata": {},
   "outputs": [],
   "source": []
  },
  {
   "cell_type": "code",
   "execution_count": null,
   "id": "324756ee",
   "metadata": {},
   "outputs": [],
   "source": []
  },
  {
   "cell_type": "code",
   "execution_count": null,
   "id": "6fc8b307",
   "metadata": {},
   "outputs": [],
   "source": []
  },
  {
   "cell_type": "code",
   "execution_count": null,
   "id": "53c281bc",
   "metadata": {},
   "outputs": [],
   "source": []
  },
  {
   "cell_type": "code",
   "execution_count": null,
   "id": "4a10698f",
   "metadata": {},
   "outputs": [],
   "source": []
  },
  {
   "cell_type": "code",
   "execution_count": null,
   "id": "f95f0222",
   "metadata": {},
   "outputs": [],
   "source": []
  },
  {
   "cell_type": "code",
   "execution_count": null,
   "id": "00b6a27a",
   "metadata": {},
   "outputs": [],
   "source": []
  },
  {
   "cell_type": "code",
   "execution_count": null,
   "id": "d5873c30",
   "metadata": {},
   "outputs": [],
   "source": []
  },
  {
   "cell_type": "code",
   "execution_count": null,
   "id": "d6dc236a",
   "metadata": {},
   "outputs": [],
   "source": []
  },
  {
   "cell_type": "code",
   "execution_count": null,
   "id": "84bb0136",
   "metadata": {},
   "outputs": [],
   "source": []
  },
  {
   "cell_type": "code",
   "execution_count": null,
   "id": "c9777713",
   "metadata": {},
   "outputs": [],
   "source": []
  },
  {
   "cell_type": "code",
   "execution_count": null,
   "id": "e093d933",
   "metadata": {},
   "outputs": [],
   "source": []
  },
  {
   "cell_type": "code",
   "execution_count": null,
   "id": "30438be1",
   "metadata": {},
   "outputs": [],
   "source": []
  },
  {
   "cell_type": "code",
   "execution_count": null,
   "id": "402cac92",
   "metadata": {},
   "outputs": [],
   "source": []
  },
  {
   "cell_type": "code",
   "execution_count": null,
   "id": "f2fe892a",
   "metadata": {},
   "outputs": [],
   "source": []
  },
  {
   "cell_type": "code",
   "execution_count": null,
   "id": "ba3c4d5f",
   "metadata": {},
   "outputs": [],
   "source": []
  },
  {
   "cell_type": "code",
   "execution_count": null,
   "id": "b7241bea",
   "metadata": {},
   "outputs": [],
   "source": []
  },
  {
   "cell_type": "code",
   "execution_count": null,
   "id": "3e195b21",
   "metadata": {},
   "outputs": [],
   "source": []
  },
  {
   "cell_type": "code",
   "execution_count": null,
   "id": "99d7ccfe",
   "metadata": {},
   "outputs": [],
   "source": []
  },
  {
   "cell_type": "code",
   "execution_count": null,
   "id": "3f2e3b40",
   "metadata": {},
   "outputs": [],
   "source": []
  },
  {
   "cell_type": "code",
   "execution_count": null,
   "id": "30af4f52",
   "metadata": {},
   "outputs": [],
   "source": []
  },
  {
   "cell_type": "code",
   "execution_count": null,
   "id": "27197b65",
   "metadata": {},
   "outputs": [],
   "source": []
  },
  {
   "cell_type": "code",
   "execution_count": null,
   "id": "8f539a2a",
   "metadata": {},
   "outputs": [],
   "source": []
  },
  {
   "cell_type": "code",
   "execution_count": null,
   "id": "10686c6f",
   "metadata": {},
   "outputs": [],
   "source": []
  },
  {
   "cell_type": "code",
   "execution_count": null,
   "id": "10e14a7c",
   "metadata": {},
   "outputs": [],
   "source": []
  },
  {
   "cell_type": "code",
   "execution_count": null,
   "id": "65c265c6",
   "metadata": {},
   "outputs": [],
   "source": []
  },
  {
   "cell_type": "code",
   "execution_count": null,
   "id": "a0c87fe1",
   "metadata": {},
   "outputs": [],
   "source": []
  },
  {
   "cell_type": "code",
   "execution_count": null,
   "id": "d40032ae",
   "metadata": {},
   "outputs": [],
   "source": []
  },
  {
   "cell_type": "code",
   "execution_count": null,
   "id": "e804a4f2",
   "metadata": {},
   "outputs": [],
   "source": []
  },
  {
   "cell_type": "code",
   "execution_count": null,
   "id": "13cde97d",
   "metadata": {},
   "outputs": [],
   "source": []
  },
  {
   "cell_type": "code",
   "execution_count": null,
   "id": "dc8f0ff1",
   "metadata": {},
   "outputs": [],
   "source": []
  },
  {
   "cell_type": "code",
   "execution_count": null,
   "id": "aec55c3b",
   "metadata": {},
   "outputs": [],
   "source": []
  },
  {
   "cell_type": "code",
   "execution_count": null,
   "id": "72d3bb00",
   "metadata": {},
   "outputs": [],
   "source": []
  }
 ],
 "metadata": {
  "kernelspec": {
   "display_name": "Python 3 (ipykernel)",
   "language": "python",
   "name": "python3"
  },
  "language_info": {
   "codemirror_mode": {
    "name": "ipython",
    "version": 3
   },
   "file_extension": ".py",
   "mimetype": "text/x-python",
   "name": "python",
   "nbconvert_exporter": "python",
   "pygments_lexer": "ipython3",
   "version": "3.9.12"
  }
 },
 "nbformat": 4,
 "nbformat_minor": 5
}
